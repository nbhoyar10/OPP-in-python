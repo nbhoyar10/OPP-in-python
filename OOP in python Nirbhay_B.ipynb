{
 "cells": [
  {
   "cell_type": "markdown",
   "id": "39e29203",
   "metadata": {},
   "source": [
    "function is general and avaliable for everyone       \n",
    "    vs    \n",
    "method is a kind of function which is defined in a particular class and that class of object only access it  \n",
    "function inside the class is called method\n",
    "\n",
    "    "
   ]
  },
  {
   "cell_type": "code",
   "execution_count": 1,
   "id": "023625c5",
   "metadata": {},
   "outputs": [],
   "source": [
    "class Atm:\n",
    "    \n",
    "    def __init__(self):\n",
    "        self.pin=''\n",
    "        self.balance=0\n",
    "        \n",
    "        self.menu()\n",
    "        \n",
    "    def menu(self):\n",
    "        user_input = input('''\n",
    "                     hellow, how would you like to processd\n",
    "                     1. Enter 1 to create pin\n",
    "                     2. Enter 2 to deposit\n",
    "                     3. Enter 3 to withdraw\n",
    "                     4. Enter 4 to check balance\n",
    "                     5. Enter 5 to exit\n",
    "         ''')\n",
    "        \n",
    "        if user_input =='1':\n",
    "            self.creat_pin()\n",
    "        elif user_input =='2':\n",
    "            self.deposit_amount()\n",
    "        elif user_input =='3':\n",
    "            self.withdraw_amount()\n",
    "        elif user_input =='4':\n",
    "            self.check_balance()\n",
    "        else:\n",
    "            print('Bye')\n",
    "            \n",
    "            \n",
    "    def creat_pin(self):\n",
    "        self.pin=input('Enter your pin')\n",
    "        print('your pin set successfully')\n",
    "    \n",
    "    def deposit_amount(self):\n",
    "        temp=input('Enter your pin')\n",
    "        if temp ==self.pin:\n",
    "            amount = int(input('Enter amount'))\n",
    "            self.balance = self.balance + amount\n",
    "            print('Your amount deposit successfully')\n",
    "        else:\n",
    "            print('Incorrect Pin')\n",
    "            \n",
    "    def withdraw_amount(self):\n",
    "        temp=input('Enter your pin')\n",
    "        if temp ==self.pin:\n",
    "            amount = int(input('Enter amount')) \n",
    "            if amount < self.balance:\n",
    "                self.balance = self.balance - amount\n",
    "            else:\n",
    "                print('Insufficient balance')\n",
    "        else:\n",
    "            print('Invalid Pin')\n",
    "            \n",
    "    def check_balance(self):\n",
    "        temp=input('Enter your pin')\n",
    "        if temp ==self.pin:\n",
    "            print(self.balance)\n",
    "        else:\n",
    "            print('Invalid pin')\n",
    "        "
   ]
  },
  {
   "cell_type": "code",
   "execution_count": 2,
   "id": "e9427133",
   "metadata": {},
   "outputs": [],
   "source": [
    "# sbi_acc = Atm()"
   ]
  },
  {
   "cell_type": "code",
   "execution_count": 3,
   "id": "60221a69",
   "metadata": {},
   "outputs": [],
   "source": [
    "# sbi_acc.deposit_amount()"
   ]
  },
  {
   "cell_type": "code",
   "execution_count": 4,
   "id": "feb51ac6",
   "metadata": {},
   "outputs": [],
   "source": [
    "# sbi_acc.check_balance()"
   ]
  },
  {
   "cell_type": "code",
   "execution_count": null,
   "id": "fc784c0b",
   "metadata": {},
   "outputs": [],
   "source": []
  },
  {
   "cell_type": "markdown",
   "id": "af005c48",
   "metadata": {},
   "source": [
    "__init__ :- is a constructor # constructor is special method the code written inside it automatically execute just when you create class of it. constructor is a special method we write a code here which when we start a app without taking permission of user for some conditons which help us to run the app. like(internet connectivity,location)"
   ]
  },
  {
   "cell_type": "markdown",
   "id": "759f4e71",
   "metadata": {},
   "source": [
    "__self__ :-  1] oop fundamental concept is class has data and functions to access them the class object only can do.\n",
    "\n",
    "2] class itself a method which can't call its own method or data but in some scenario they need to call it it will happen through self. self is basically current object."
   ]
  },
  {
   "cell_type": "code",
   "execution_count": null,
   "id": "fbbdcca7",
   "metadata": {},
   "outputs": [],
   "source": []
  },
  {
   "cell_type": "code",
   "execution_count": 5,
   "id": "7902c4df",
   "metadata": {},
   "outputs": [],
   "source": [
    "# class  Atm:\n",
    "    \n",
    "#     def __init__(self):\n",
    "        \n",
    "#         print(\"Hello\")\n",
    "        \n",
    "#     def menu(self):\n",
    "#         pass"
   ]
  },
  {
   "cell_type": "code",
   "execution_count": 6,
   "id": "fd6427b5",
   "metadata": {},
   "outputs": [],
   "source": [
    "# sbi = Atm()"
   ]
  },
  {
   "cell_type": "code",
   "execution_count": 7,
   "id": "0a061b91",
   "metadata": {},
   "outputs": [],
   "source": [
    "class Fraction:\n",
    "    \"\"\"\n",
    "   you can easily do fractions using this \n",
    "    \"\"\"\n",
    "    \n",
    "    def __init__(self,n,d):\n",
    "        self.num = n\n",
    "        self.den = d\n",
    "        \n",
    "    def __str__(self):\n",
    "        return \"{}/{}\".format(self.num,self.den)\n",
    "    \n",
    "    def __add__(self,other):\n",
    "        \n",
    "        temp_num = self.num * other.den + other.num * self.den\n",
    "        temp_den = self.den * other.den\n",
    "        \n",
    "        return \"{}/{}\".format(temp_num,temp_den)\n",
    "    \n",
    "    def __sub__(self,other):\n",
    "        \n",
    "        temp_num = self.num * other.den - other.num * self.den\n",
    "        temp_den = self.den * other.den\n",
    "        \n",
    "        return \"{}/{}\".format(temp_num,temp_den)\n",
    "    \n",
    "    def __mul__(self,other):\n",
    "        \n",
    "        temp_num = self.num * other.den\n",
    "        temp_den = self.den * other.den\n",
    "        \n",
    "        return \"{}/{}\".format(temp_num,temp_den)\n",
    "    \n",
    "    def __truediv__(self,other):\n",
    "        \n",
    "        temp_num = self.num * other.den \n",
    "        temp_den = self.den * other.num\n",
    "        \n",
    "        return \"{}/{}\".format(temp_num,temp_den)"
   ]
  },
  {
   "cell_type": "code",
   "execution_count": 11,
   "id": "7ea269a3",
   "metadata": {},
   "outputs": [
    {
     "name": "stdout",
     "output_type": "stream",
     "text": [
      "3/4\n",
      "<class '__main__.Fraction'>\n"
     ]
    }
   ],
   "source": [
    "x = Fraction(3,4)\n",
    "print(x)\n",
    "print(type(x))"
   ]
  },
  {
   "cell_type": "code",
   "execution_count": 14,
   "id": "3bca7bef",
   "metadata": {},
   "outputs": [
    {
     "name": "stdout",
     "output_type": "stream",
     "text": [
      "2/4\n"
     ]
    }
   ],
   "source": [
    "y = Fraction(2,4)\n",
    "print(y)"
   ]
  },
  {
   "cell_type": "code",
   "execution_count": 15,
   "id": "19edc04e",
   "metadata": {},
   "outputs": [],
   "source": [
    "# print(x + y)\n",
    "\n",
    "# print(x - y)\n",
    "\n",
    "# print(x * y)\n",
    "\n",
    "# print(x /y)"
   ]
  },
  {
   "cell_type": "code",
   "execution_count": null,
   "id": "0f16435c",
   "metadata": {},
   "outputs": [],
   "source": []
  },
  {
   "cell_type": "markdown",
   "id": "0c7ce538",
   "metadata": {},
   "source": [
    "# Encapsulation"
   ]
  },
  {
   "cell_type": "markdown",
   "id": "ea60eb0a",
   "metadata": {},
   "source": [
    "__instance variable__ : those variables we create inside the constructor(like pin , balance) is called Instance variable. why? because the value of variable is diff for diff objects. "
   ]
  },
  {
   "cell_type": "code",
   "execution_count": 16,
   "id": "e8f3e40c",
   "metadata": {},
   "outputs": [],
   "source": [
    "class Atm:\n",
    "    \n",
    "    def __init__(self):\n",
    "        self.__pin=''\n",
    "        self.__balance=0\n",
    "        \n",
    "        self.menu()\n",
    "        \n",
    "        \n",
    "    def get_pin(self):\n",
    "        return self.__pin\n",
    "    \n",
    "    def set_pin(self,new_pin):\n",
    "        if type(new_pin)==str:\n",
    "            self.__pin=new_pin\n",
    "            print(\"pin changed\")\n",
    "        else:\n",
    "            print(\"Not allowed\")\n",
    "    \n",
    "        \n",
    "    def menu(self):\n",
    "        user_input = input('''\n",
    "                     hellow, how would you like to processd\n",
    "                     1. Enter 1 to create pin\n",
    "                     2. Enter 2 to deposit\n",
    "                     3. Enter 3 to withdraw\n",
    "                     4. Enter 4 to check balance\n",
    "                     5. Enter 5 to exit\n",
    "         ''')\n",
    "        \n",
    "        if user_input =='1':\n",
    "            self.creat_pin()\n",
    "        elif user_input =='2':\n",
    "            self.deposit_amount()\n",
    "        elif user_input =='3':\n",
    "            self.withdraw_amount()\n",
    "        elif user_input =='4':\n",
    "            self.check_balance()\n",
    "        else:\n",
    "            print('Bye')\n",
    "            \n",
    "            \n",
    "    def creat_pin(self):\n",
    "        self.__pin=input('Enter your pin')\n",
    "        print('your pin set successfully')\n",
    "    \n",
    "    def deposit_amount(self):\n",
    "        temp=input('Enter your pin')\n",
    "        if temp ==self.__pin:\n",
    "            amount = int(input('Enter amount'))\n",
    "            self.__balance = self.__balance + amount\n",
    "            print('Your amount deposit successfully')\n",
    "        else:\n",
    "            print('Incorrect Pin')\n",
    "            \n",
    "    def withdraw_amount(self):\n",
    "        temp=input('Enter your pin')\n",
    "        if temp ==self.__pin:\n",
    "            amount = int(input('Enter amount')) \n",
    "            if amount < self.__balance:\n",
    "                self.__balance = self.__balance - amount\n",
    "            else:\n",
    "                print('Insufficient balance')\n",
    "        else:\n",
    "            print('Invalid Pin')\n",
    "            \n",
    "    def check_balance(self):\n",
    "        temp=input('Enter your pin')\n",
    "        if temp ==self.__pin:\n",
    "            print(self.__balance)\n",
    "        else:\n",
    "            print('Invalid pin')\n",
    "        "
   ]
  },
  {
   "cell_type": "code",
   "execution_count": 17,
   "id": "2299e671",
   "metadata": {},
   "outputs": [],
   "source": [
    "# indu = Atm()"
   ]
  },
  {
   "cell_type": "code",
   "execution_count": 18,
   "id": "5e502ef1",
   "metadata": {},
   "outputs": [],
   "source": [
    "# indu.set_pin(\"1000\")\n",
    "# indu.get_pin()"
   ]
  },
  {
   "cell_type": "markdown",
   "id": "3b14bc64",
   "metadata": {},
   "source": [
    "1) we can not open our data directly \n",
    "a- private it and getter and setter used after that\n",
    "\n",
    "2) __ before method to make them pvt and hide\n",
    "\n"
   ]
  },
  {
   "cell_type": "code",
   "execution_count": 39,
   "id": "4d6d50fd",
   "metadata": {},
   "outputs": [],
   "source": [
    "class family:\n",
    "    def __init__(self,name,age):\n",
    "        self.name= name\n",
    "        self.age= age\n",
    "        \n",
    "f1=[\"nirbhay\",22]\n",
    "f2=[\"vedant\",19]\n",
    "    \n",
    "L = [f1,f2]"
   ]
  },
  {
   "cell_type": "code",
   "execution_count": 40,
   "id": "f0f53d52",
   "metadata": {},
   "outputs": [
    {
     "name": "stdout",
     "output_type": "stream",
     "text": [
      "['nirbhay', 22]\n",
      "['vedant', 19]\n"
     ]
    }
   ],
   "source": [
    "for i in L:\n",
    "    print(i)"
   ]
  },
  {
   "cell_type": "code",
   "execution_count": null,
   "id": "5a9363fa",
   "metadata": {},
   "outputs": [],
   "source": []
  },
  {
   "cell_type": "markdown",
   "id": "b5ed35d0",
   "metadata": {},
   "source": [
    "# __Static__"
   ]
  },
  {
   "cell_type": "markdown",
   "id": "a90c9dc0",
   "metadata": {},
   "source": [
    "__static__ --- A variable for which value is same for all(__like ifsc code )"
   ]
  },
  {
   "cell_type": "code",
   "execution_count": 2,
   "id": "a88b1b8c",
   "metadata": {},
   "outputs": [],
   "source": [
    "class Atm:\n",
    "    \n",
    "#     class / static variable\n",
    "    __counter =1\n",
    "    \n",
    "    def __init__(self):\n",
    "        \n",
    "        #instance variale\n",
    "        self.__pin=''\n",
    "        self.__balance=0\n",
    "        \n",
    "        self.sno = Atm.__counter\n",
    "        Atm.__counter+=1\n",
    "        \n",
    "        self.menu()\n",
    "     \n",
    "#     @static_method\n",
    "    def get_counter():\n",
    "        return Atm.__counter\n",
    "    \n",
    "#     @static_method\n",
    "    def set_counter(new):\n",
    "        if type(new)==int:\n",
    "            Atm.__counter=new\n",
    "            print(\"changed\")\n",
    "        else:\n",
    "            print(\"Not allowed\")    \n",
    "        \n",
    "    def get_pin(self):\n",
    "        return self.__pin\n",
    "    \n",
    "    def set_pin(self,new_pin):\n",
    "        if type(new_pin)==str:\n",
    "            self.__pin=new_pin\n",
    "            print(\"pin changed\")\n",
    "        else:\n",
    "            print(\"Not allowed\")\n",
    "    \n",
    "        \n",
    "    def menu(self):\n",
    "        user_input = input('''\n",
    "                     hellow, how would you like to processd\n",
    "                     1. Enter 1 to create pin\n",
    "                     2. Enter 2 to deposit\n",
    "                     3. Enter 3 to withdraw\n",
    "                     4. Enter 4 to check balance\n",
    "                     5. Enter 5 to exit\n",
    "         ''')\n",
    "        \n",
    "        if user_input =='1':\n",
    "            self.creat_pin()\n",
    "        elif user_input =='2':\n",
    "            self.deposit_amount()\n",
    "        elif user_input =='3':\n",
    "            self.withdraw_amount()\n",
    "        elif user_input =='4':\n",
    "            self.check_balance()\n",
    "        else:\n",
    "            print('Bye')\n",
    "            \n",
    "            \n",
    "    def creat_pin(self):\n",
    "        self.__pin=input('Enter your pin')\n",
    "        print('your pin set successfully')\n",
    "    \n",
    "    def deposit_amount(self):\n",
    "        temp=input('Enter your pin')\n",
    "        if temp ==self.__pin:\n",
    "            amount = int(input('Enter amount'))\n",
    "            self.__balance = self.__balance + amount\n",
    "            print('Your amount deposit successfully')\n",
    "        else:\n",
    "            print('Incorrect Pin')\n",
    "            \n",
    "    def withdraw_amount(self):\n",
    "        temp=input('Enter your pin')\n",
    "        if temp ==self.__pin:\n",
    "            amount = int(input('Enter amount')) \n",
    "            if amount < self.__balance:\n",
    "                self.__balance = self.__balance - amount\n",
    "            else:\n",
    "                print('Insufficient balance')\n",
    "        else:\n",
    "            print('Invalid Pin')\n",
    "            \n",
    "    def check_balance(self):\n",
    "        temp=input('Enter your pin')\n",
    "        if temp ==self.__pin:\n",
    "            print(self.__balance)\n",
    "        else:\n",
    "            print('Invalid pin')\n",
    "        "
   ]
  },
  {
   "cell_type": "code",
   "execution_count": 3,
   "id": "fe333917",
   "metadata": {},
   "outputs": [],
   "source": [
    "# c1 = Atm()"
   ]
  },
  {
   "cell_type": "code",
   "execution_count": 4,
   "id": "f4e96bc3",
   "metadata": {},
   "outputs": [],
   "source": [
    "# c2 = Atm()"
   ]
  },
  {
   "cell_type": "code",
   "execution_count": 5,
   "id": "72de6fd9",
   "metadata": {},
   "outputs": [],
   "source": [
    "# c1.sno"
   ]
  },
  {
   "cell_type": "code",
   "execution_count": 6,
   "id": "616e9c2d",
   "metadata": {},
   "outputs": [],
   "source": [
    "# Atm.get_counter()"
   ]
  },
  {
   "cell_type": "code",
   "execution_count": 7,
   "id": "2c73b2bc",
   "metadata": {},
   "outputs": [],
   "source": [
    "# Atm.set_counter(5)"
   ]
  },
  {
   "cell_type": "code",
   "execution_count": 8,
   "id": "da78e036",
   "metadata": {},
   "outputs": [],
   "source": [
    "# Atm.get_counter()"
   ]
  },
  {
   "cell_type": "code",
   "execution_count": 19,
   "id": "77cdc287",
   "metadata": {},
   "outputs": [],
   "source": [
    "class Customer:\n",
    "    def __init__(self,name,gender,address):\n",
    "        self.name=name\n",
    "        self.gender=gender\n",
    "        self.address=address\n",
    "      \n",
    "    \n",
    "class Address:\n",
    "    def __init__(self,city,state):\n",
    "        self.city=city\n",
    "        self.state=state"
   ]
  },
  {
   "cell_type": "code",
   "execution_count": 28,
   "id": "4987bd27",
   "metadata": {},
   "outputs": [],
   "source": [
    "add = Address(\"Pune_005\",\"Mh\")"
   ]
  },
  {
   "cell_type": "code",
   "execution_count": 32,
   "id": "168eaab6",
   "metadata": {},
   "outputs": [
    {
     "name": "stdout",
     "output_type": "stream",
     "text": [
      "Pune_005\n"
     ]
    }
   ],
   "source": [
    "cust = Customer(\"Nirbhay\",\"M\",add)\n",
    "print(cust.address.city)"
   ]
  },
  {
   "cell_type": "code",
   "execution_count": null,
   "id": "46211368",
   "metadata": {},
   "outputs": [],
   "source": []
  },
  {
   "cell_type": "markdown",
   "id": "313249a1",
   "metadata": {},
   "source": [
    "# __Inheritance__"
   ]
  },
  {
   "cell_type": "markdown",
   "id": "40710d2f",
   "metadata": {},
   "source": [
    "__Inheritance__ allows us to define a class that inherits all the methods and properties from another class.\n",
    "\n",
    "Parent class is the class being inherited from, also called base class.\n",
    "\n",
    "Child class is the class that inherits from another class, also called derived class.\n",
    "\n",
    "    inheritance gives benifits of code reuseablity"
   ]
  },
  {
   "cell_type": "code",
   "execution_count": 35,
   "id": "665167d7",
   "metadata": {},
   "outputs": [],
   "source": [
    "class Instagram:\n",
    "    \n",
    "    def login(self):\n",
    "        print(\"login\")\n",
    "    def signup(self):\n",
    "        print(\"signup\")\n",
    "\n",
    "class User(Instagram):\n",
    "    def post(self):\n",
    "        print(\"post\")\n",
    "        \n",
    "    def watch_content(self):\n",
    "        print(\"conetent\")\n",
    "        \n"
   ]
  },
  {
   "cell_type": "code",
   "execution_count": 42,
   "id": "8bbc127b",
   "metadata": {},
   "outputs": [
    {
     "name": "stdout",
     "output_type": "stream",
     "text": [
      "conetent\n",
      "None\n"
     ]
    }
   ],
   "source": [
    "social = User()\n",
    "print(social.watch_content())"
   ]
  },
  {
   "cell_type": "code",
   "execution_count": 43,
   "id": "ee8088b7",
   "metadata": {},
   "outputs": [],
   "source": [
    "i = Instagram()\n",
    "i.login"
   ]
  },
  {
   "cell_type": "code",
   "execution_count": 13,
   "id": "ad64cd1a",
   "metadata": {},
   "outputs": [],
   "source": [
    "class Phone:\n",
    "    def __init__(self,model,name,ram):\n",
    "        print(\"What you want to Know sir\")\n",
    "        self.model=model\n",
    "        self.name=name\n",
    "        self.ram=ram\n",
    "        \n",
    "    def buy(self):\n",
    "        print(\"buying a phone\")\n",
    "\n",
    "class Smart_phone(Phone):\n",
    "    def buy(self):\n",
    "        print(\"Buying a SP\") # METHOD OVERRIDDING (Child class wala khud k same nam wale method ko call karegas)\n",
    "\n",
    "\n",
    "        "
   ]
  },
  {
   "cell_type": "code",
   "execution_count": 19,
   "id": "35e1271e",
   "metadata": {},
   "outputs": [
    {
     "name": "stdout",
     "output_type": "stream",
     "text": [
      "What you want to Know sir\n",
      "Apple\n"
     ]
    }
   ],
   "source": [
    "s = Smart_phone(15,\"Apple\",6)\n",
    "print(s.name)"
   ]
  },
  {
   "cell_type": "code",
   "execution_count": 15,
   "id": "5db8cb36",
   "metadata": {},
   "outputs": [
    {
     "name": "stdout",
     "output_type": "stream",
     "text": [
      "Buying a SP\n"
     ]
    }
   ],
   "source": [
    "s.buy()"
   ]
  },
  {
   "cell_type": "code",
   "execution_count": 22,
   "id": "c607f0d9",
   "metadata": {},
   "outputs": [],
   "source": [
    "class Parent:\n",
    "    def __init__(self,num):\n",
    "        self.__num = num\n",
    "    def get_num(self):\n",
    "        return self.__num\n",
    "    \n",
    "class Child(Parent):\n",
    "    def show(self):\n",
    "        print(\"This is in Child Class\")\n",
    "        "
   ]
  },
  {
   "cell_type": "code",
   "execution_count": 25,
   "id": "67d4e6d3",
   "metadata": {},
   "outputs": [
    {
     "name": "stdout",
     "output_type": "stream",
     "text": [
      "50\n"
     ]
    }
   ],
   "source": [
    "f = Child(50)\n",
    "print(f.get_num())"
   ]
  },
  {
   "cell_type": "code",
   "execution_count": 27,
   "id": "e7c77161",
   "metadata": {},
   "outputs": [],
   "source": [
    "class Phone:\n",
    "    def __init__(self,model,name,ram):\n",
    "        print(\"What you want to Know sir\")\n",
    "        self.model=model\n",
    "        self.name=name\n",
    "        self.ram=ram\n",
    "\n",
    "class Smart_phone(Phone):\n",
    "    def __init__(self,model,name,ram,os,internal):\n",
    "        print(\"First\")\n",
    "        super().__init__(model,name,ram)#First Statement\n",
    "        self.os=os\n",
    "        self.internal=internal\n",
    "        print(\"Inside smartphone\")"
   ]
  },
  {
   "cell_type": "code",
   "execution_count": 33,
   "id": "55916477",
   "metadata": {},
   "outputs": [
    {
     "name": "stdout",
     "output_type": "stream",
     "text": [
      "First\n",
      "What you want to Know sir\n",
      "Inside smartphone\n",
      "IOS\n",
      "255\n",
      "Apple\n"
     ]
    }
   ],
   "source": [
    "c= Smart_phone(15,\"Apple\",6,\"IOS\",255)\n",
    "print(c.os)\n",
    "print(c.internal)\n",
    "print(c.name)"
   ]
  },
  {
   "cell_type": "markdown",
   "id": "1cbdfb45",
   "metadata": {},
   "source": [
    "# Polymorphism"
   ]
  },
  {
   "cell_type": "markdown",
   "id": "0ee8b97a",
   "metadata": {},
   "source": [
    "Poly-multiple, morphism - Phases\n",
    "\n",
    "Polymorphism in Python is the ability of one object to take on multiple forms. This is done by creating multiple classes inherited from a single base class. "
   ]
  },
  {
   "cell_type": "markdown",
   "id": "6c9d8481",
   "metadata": {},
   "source": [
    "__Method overridding__\n",
    "\n",
    "__Method Overloading__\n",
    "\n",
    "__Opertor Overloading__\n"
   ]
  },
  {
   "cell_type": "code",
   "execution_count": null,
   "id": "235f25e2",
   "metadata": {},
   "outputs": [],
   "source": []
  }
 ],
 "metadata": {
  "kernelspec": {
   "display_name": "Python 3 (ipykernel)",
   "language": "python",
   "name": "python3"
  },
  "language_info": {
   "codemirror_mode": {
    "name": "ipython",
    "version": 3
   },
   "file_extension": ".py",
   "mimetype": "text/x-python",
   "name": "python",
   "nbconvert_exporter": "python",
   "pygments_lexer": "ipython3",
   "version": "3.11.4"
  }
 },
 "nbformat": 4,
 "nbformat_minor": 5
}
